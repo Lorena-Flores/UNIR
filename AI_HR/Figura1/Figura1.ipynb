{
 "cells": [
  {
   "cell_type": "code",
   "execution_count": 2,
   "id": "e8048511",
   "metadata": {},
   "outputs": [
    {
     "data": {
      "text/plain": [
       "'Source.gv.pdf'"
      ]
     },
     "execution_count": 2,
     "metadata": {},
     "output_type": "execute_result"
    }
   ],
   "source": [
    "from graphviz import Source\n",
    "\n",
    "dot_code = \"\"\"\n",
    "digraph {\n",
    "    bgcolor=white rankdir=LR size=\"6,6\"\n",
    "    ObjetivoGeneral [label=\"Impacto disruptivo de la IA\\\\nen la selección de talento\" fillcolor=\"#4682B4\" fontcolor=white fontsize=14 penwidth=2 shape=box style=filled]\n",
    "    {\n",
    "        rank=same\n",
    "        Objetivo1 [label=\"Analizar el uso de la IA en los procesos de selección de talento\" fillcolor=\"#87CEEB\" fontcolor=black fontsize=12 height=1 shape=ellipse style=filled width=1.8]\n",
    "        Objetivo2 [label=\"Determinar los beneficios de la utilización de la IA en dichos procesos\" fillcolor=\"#87CEEB\" fontcolor=black fontsize=12 height=1 shape=ellipse style=filled width=1.8]\n",
    "        Objetivo3 [label=\"Identificar los principales desafíos de los profesionales de RRHH actualmente\" fillcolor=\"#87CEEB\" fontcolor=black fontsize=12 height=1 shape=ellipse style=filled width=1.8]\n",
    "        Objetivo4 [label=\"Analizar las implicaciones éticas y los riesgos asociados al uso de dichas tecnologías\" fillcolor=\"#87CEEB\" fontcolor=black fontsize=12 height=1 shape=ellipse style=filled width=1.8]\n",
    "        Objetivo5 [label=\"Ilustrar cómo el uso de la IA puede aumentar la eficiencia en las organizaciones\" fillcolor=\"#87CEEB\" fontcolor=black fontsize=12 height=1 shape=ellipse style=filled width=1.8]\n",
    "    }\n",
    "    ObjetivoGeneral -> Objetivo1 [color=black penwidth=1.5]\n",
    "    ObjetivoGeneral -> Objetivo2 [color=black penwidth=1.5]\n",
    "    ObjetivoGeneral -> Objetivo3 [color=black penwidth=1.5]\n",
    "    ObjetivoGeneral -> Objetivo4 [color=black penwidth=1.5]\n",
    "    ObjetivoGeneral -> Objetivo5 [color=black penwidth=1.5]\n",
    "}\n",
    "\"\"\"\n",
    "\n",
    "graph = Source(dot_code)\n",
    "graph.view()\n"
   ]
  }
 ],
 "metadata": {
  "kernelspec": {
   "display_name": "Python 3",
   "language": "python",
   "name": "python3"
  },
  "language_info": {
   "codemirror_mode": {
    "name": "ipython",
    "version": 3
   },
   "file_extension": ".py",
   "mimetype": "text/x-python",
   "name": "python",
   "nbconvert_exporter": "python",
   "pygments_lexer": "ipython3",
   "version": "3.13.1"
  }
 },
 "nbformat": 4,
 "nbformat_minor": 5
}
